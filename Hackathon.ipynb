{
  "cells": [
    {
      "cell_type": "code",
      "execution_count": null,
      "id": "2c5e9610",
      "metadata": {
        "id": "2c5e9610"
      },
      "outputs": [],
      "source": [
        "import pandas as pd\n",
        "import matplotlib.pyplot as plt"
      ]
    },
    {
      "cell_type": "code",
      "execution_count": null,
      "id": "bfb71604",
      "metadata": {
        "id": "bfb71604"
      },
      "outputs": [],
      "source": [
        "import numpy as np"
      ]
    },
    {
      "cell_type": "code",
      "execution_count": null,
      "id": "efa3bcb9",
      "metadata": {
        "id": "efa3bcb9"
      },
      "outputs": [],
      "source": [
        "accidents=pd.read_csv(\"/content/accidents.csv\")\n",
        "vehicles=pd.read_csv(\"/content/vehicles.csv\")"
      ]
    },
    {
      "cell_type": "code",
      "execution_count": null,
      "id": "1b728999",
      "metadata": {
        "colab": {
          "base_uri": "https://localhost:8080/"
        },
        "id": "1b728999",
        "outputId": "48a9df1f-98cc-4df5-a7cd-bab53bce7a18"
      },
      "outputs": [
        {
          "output_type": "stream",
          "name": "stdout",
          "text": [
            "<class 'pandas.core.frame.DataFrame'>\n",
            "RangeIndex: 88624 entries, 0 to 88623\n",
            "Data columns (total 32 columns):\n",
            " #   Column                                       Non-Null Count  Dtype  \n",
            "---  ------                                       --------------  -----  \n",
            " 0   Accident_Index                               88624 non-null  object \n",
            " 1   Location_Easting_OSGR                        88592 non-null  float64\n",
            " 2   Location_Northing_OSGR                       88592 non-null  float64\n",
            " 3   Longitude                                    88592 non-null  float64\n",
            " 4   Latitude                                     88592 non-null  float64\n",
            " 5   Police_Force                                 88623 non-null  float64\n",
            " 6   Accident_Severity                            88623 non-null  float64\n",
            " 7   Number_of_Vehicles                           88623 non-null  float64\n",
            " 8   Number_of_Casualties                         88623 non-null  float64\n",
            " 9   Date                                         88623 non-null  object \n",
            " 10  Day_of_Week                                  88623 non-null  float64\n",
            " 11  Time                                         88622 non-null  object \n",
            " 12  Local_Authority_(District)                   88623 non-null  float64\n",
            " 13  Local_Authority_(Highway)                    88623 non-null  object \n",
            " 14  1st_Road_Class                               88623 non-null  float64\n",
            " 15  1st_Road_Number                              88623 non-null  float64\n",
            " 16  Road_Type                                    88623 non-null  float64\n",
            " 17  Speed_limit                                  88623 non-null  float64\n",
            " 18  Junction_Detail                              88623 non-null  float64\n",
            " 19  Junction_Control                             88623 non-null  float64\n",
            " 20  2nd_Road_Class                               88623 non-null  float64\n",
            " 21  2nd_Road_Number                              88623 non-null  float64\n",
            " 22  Pedestrian_Crossing-Human_Control            88623 non-null  float64\n",
            " 23  Pedestrian_Crossing-Physical_Facilities      88623 non-null  float64\n",
            " 24  Light_Conditions                             88623 non-null  float64\n",
            " 25  Weather_Conditions                           88623 non-null  float64\n",
            " 26  Road_Surface_Conditions                      88623 non-null  float64\n",
            " 27  Special_Conditions_at_Site                   88623 non-null  float64\n",
            " 28  Carriageway_Hazards                          88623 non-null  float64\n",
            " 29  Urban_or_Rural_Area                          88623 non-null  float64\n",
            " 30  Did_Police_Officer_Attend_Scene_of_Accident  88623 non-null  float64\n",
            " 31  LSOA_of_Accident_Location                    88512 non-null  object \n",
            "dtypes: float64(27), object(5)\n",
            "memory usage: 21.6+ MB\n"
          ]
        }
      ],
      "source": [
        "accidents.info()"
      ]
    },
    {
      "cell_type": "code",
      "execution_count": null,
      "id": "7d25fd6b",
      "metadata": {
        "colab": {
          "base_uri": "https://localhost:8080/"
        },
        "id": "7d25fd6b",
        "outputId": "8ea253a8-1038-4e85-9ace-b043c5e2c5ab"
      },
      "outputs": [
        {
          "output_type": "stream",
          "name": "stdout",
          "text": [
            "<class 'pandas.core.frame.DataFrame'>\n",
            "RangeIndex: 46070 entries, 0 to 46069\n",
            "Data columns (total 22 columns):\n",
            " #   Column                            Non-Null Count  Dtype  \n",
            "---  ------                            --------------  -----  \n",
            " 0   Accident_Index                    46070 non-null  object \n",
            " 1   Vehicle_Reference                 46069 non-null  float64\n",
            " 2   Vehicle_Type                      46069 non-null  float64\n",
            " 3   Towing_and_Articulation           46069 non-null  float64\n",
            " 4   Vehicle_Manoeuvre                 46069 non-null  float64\n",
            " 5   Vehicle_Location-Restricted_Lane  46069 non-null  float64\n",
            " 6   Junction_Location                 46069 non-null  float64\n",
            " 7   Skidding_and_Overturning          46069 non-null  float64\n",
            " 8   Hit_Object_in_Carriageway         46069 non-null  float64\n",
            " 9   Vehicle_Leaving_Carriageway       46069 non-null  float64\n",
            " 10  Hit_Object_off_Carriageway        46069 non-null  float64\n",
            " 11  1st_Point_of_Impact               46069 non-null  float64\n",
            " 12  Was_Vehicle_Left_Hand_Drive?      46069 non-null  float64\n",
            " 13  Journey_Purpose_of_Driver         46069 non-null  float64\n",
            " 14  Sex_of_Driver                     46069 non-null  float64\n",
            " 15  Age_of_Driver                     46069 non-null  float64\n",
            " 16  Age_Band_of_Driver                46069 non-null  float64\n",
            " 17  Engine_Capacity_(CC)              46069 non-null  float64\n",
            " 18  Propulsion_Code                   46069 non-null  float64\n",
            " 19  Age_of_Vehicle                    46069 non-null  float64\n",
            " 20  Driver_IMD_Decile                 46069 non-null  float64\n",
            " 21  Driver_Home_Area_Type             46069 non-null  float64\n",
            "dtypes: float64(21), object(1)\n",
            "memory usage: 7.7+ MB\n"
          ]
        }
      ],
      "source": [
        "vehicles.info()"
      ]
    },
    {
      "cell_type": "code",
      "execution_count": null,
      "id": "0a67f834",
      "metadata": {
        "colab": {
          "base_uri": "https://localhost:8080/"
        },
        "id": "0a67f834",
        "outputId": "cab8c7e8-3189-441c-ab44-0907889b223e"
      },
      "outputs": [
        {
          "output_type": "execute_result",
          "data": {
            "text/plain": [
              "array([ 2.,  3.,  1., nan])"
            ]
          },
          "metadata": {},
          "execution_count": 7
        }
      ],
      "source": [
        "accidents[\"Accident_Severity\"].unique()\n",
        "#gives unique values in the column"
      ]
    },
    {
      "cell_type": "code",
      "execution_count": null,
      "id": "4b47b0b9",
      "metadata": {
        "id": "4b47b0b9"
      },
      "outputs": [],
      "source": [
        "#Combining two datasets\n",
        "import pandas as pd\n",
        "data=pd.merge(accidents,vehicles,on=\"Accident_Index\",how='outer')"
      ]
    },
    {
      "cell_type": "code",
      "execution_count": null,
      "id": "c664faa2",
      "metadata": {
        "colab": {
          "base_uri": "https://localhost:8080/",
          "height": 299
        },
        "id": "c664faa2",
        "outputId": "b2f399f3-0c58-4230-8d5c-091a7d2db7e5"
      },
      "outputs": [
        {
          "output_type": "execute_result",
          "data": {
            "text/plain": [
              "  Accident_Index  Location_Easting_OSGR  Location_Northing_OSGR  Longitude  \\\n",
              "0  200501BS00001               525680.0                178240.0  -0.191170   \n",
              "1  200501BS00002               524170.0                181650.0  -0.211708   \n",
              "2  200501BS00003               524520.0                182240.0  -0.206458   \n",
              "3  200501BS00003               524520.0                182240.0  -0.206458   \n",
              "4  200501BS00004               526900.0                177530.0  -0.173862   \n",
              "\n",
              "    Latitude  Police_Force  Accident_Severity  Number_of_Vehicles  \\\n",
              "0  51.489096           1.0                2.0                 1.0   \n",
              "1  51.520075           1.0                3.0                 1.0   \n",
              "2  51.525301           1.0                3.0                 2.0   \n",
              "3  51.525301           1.0                3.0                 2.0   \n",
              "4  51.482442           1.0                3.0                 1.0   \n",
              "\n",
              "   Number_of_Casualties        Date  ...  Was_Vehicle_Left_Hand_Drive?  \\\n",
              "0                   1.0  04/01/2005  ...                           1.0   \n",
              "1                   1.0  05/01/2005  ...                           1.0   \n",
              "2                   1.0  06/01/2005  ...                           1.0   \n",
              "3                   1.0  06/01/2005  ...                           1.0   \n",
              "4                   1.0  07/01/2005  ...                           1.0   \n",
              "\n",
              "  Journey_Purpose_of_Driver  Sex_of_Driver Age_of_Driver  Age_Band_of_Driver  \\\n",
              "0                      15.0            2.0          74.0                10.0   \n",
              "1                       1.0            1.0          42.0                 7.0   \n",
              "2                       1.0            1.0          35.0                 6.0   \n",
              "3                      15.0            1.0          62.0                 9.0   \n",
              "4                      15.0            2.0          49.0                 8.0   \n",
              "\n",
              "   Engine_Capacity_(CC)  Propulsion_Code  Age_of_Vehicle  Driver_IMD_Decile  \\\n",
              "0                  -1.0             -1.0            -1.0                7.0   \n",
              "1                8268.0              2.0             3.0               -1.0   \n",
              "2                8300.0              2.0             5.0                2.0   \n",
              "3                1762.0              1.0             6.0                1.0   \n",
              "4                1769.0              1.0             4.0                2.0   \n",
              "\n",
              "   Driver_Home_Area_Type  \n",
              "0                    1.0  \n",
              "1                   -1.0  \n",
              "2                    1.0  \n",
              "3                    1.0  \n",
              "4                    1.0  \n",
              "\n",
              "[5 rows x 53 columns]"
            ],
            "text/html": [
              "\n",
              "  <div id=\"df-a3bef533-cf77-42f2-93fb-0e78af14c8c0\">\n",
              "    <div class=\"colab-df-container\">\n",
              "      <div>\n",
              "<style scoped>\n",
              "    .dataframe tbody tr th:only-of-type {\n",
              "        vertical-align: middle;\n",
              "    }\n",
              "\n",
              "    .dataframe tbody tr th {\n",
              "        vertical-align: top;\n",
              "    }\n",
              "\n",
              "    .dataframe thead th {\n",
              "        text-align: right;\n",
              "    }\n",
              "</style>\n",
              "<table border=\"1\" class=\"dataframe\">\n",
              "  <thead>\n",
              "    <tr style=\"text-align: right;\">\n",
              "      <th></th>\n",
              "      <th>Accident_Index</th>\n",
              "      <th>Location_Easting_OSGR</th>\n",
              "      <th>Location_Northing_OSGR</th>\n",
              "      <th>Longitude</th>\n",
              "      <th>Latitude</th>\n",
              "      <th>Police_Force</th>\n",
              "      <th>Accident_Severity</th>\n",
              "      <th>Number_of_Vehicles</th>\n",
              "      <th>Number_of_Casualties</th>\n",
              "      <th>Date</th>\n",
              "      <th>...</th>\n",
              "      <th>Was_Vehicle_Left_Hand_Drive?</th>\n",
              "      <th>Journey_Purpose_of_Driver</th>\n",
              "      <th>Sex_of_Driver</th>\n",
              "      <th>Age_of_Driver</th>\n",
              "      <th>Age_Band_of_Driver</th>\n",
              "      <th>Engine_Capacity_(CC)</th>\n",
              "      <th>Propulsion_Code</th>\n",
              "      <th>Age_of_Vehicle</th>\n",
              "      <th>Driver_IMD_Decile</th>\n",
              "      <th>Driver_Home_Area_Type</th>\n",
              "    </tr>\n",
              "  </thead>\n",
              "  <tbody>\n",
              "    <tr>\n",
              "      <th>0</th>\n",
              "      <td>200501BS00001</td>\n",
              "      <td>525680.0</td>\n",
              "      <td>178240.0</td>\n",
              "      <td>-0.191170</td>\n",
              "      <td>51.489096</td>\n",
              "      <td>1.0</td>\n",
              "      <td>2.0</td>\n",
              "      <td>1.0</td>\n",
              "      <td>1.0</td>\n",
              "      <td>04/01/2005</td>\n",
              "      <td>...</td>\n",
              "      <td>1.0</td>\n",
              "      <td>15.0</td>\n",
              "      <td>2.0</td>\n",
              "      <td>74.0</td>\n",
              "      <td>10.0</td>\n",
              "      <td>-1.0</td>\n",
              "      <td>-1.0</td>\n",
              "      <td>-1.0</td>\n",
              "      <td>7.0</td>\n",
              "      <td>1.0</td>\n",
              "    </tr>\n",
              "    <tr>\n",
              "      <th>1</th>\n",
              "      <td>200501BS00002</td>\n",
              "      <td>524170.0</td>\n",
              "      <td>181650.0</td>\n",
              "      <td>-0.211708</td>\n",
              "      <td>51.520075</td>\n",
              "      <td>1.0</td>\n",
              "      <td>3.0</td>\n",
              "      <td>1.0</td>\n",
              "      <td>1.0</td>\n",
              "      <td>05/01/2005</td>\n",
              "      <td>...</td>\n",
              "      <td>1.0</td>\n",
              "      <td>1.0</td>\n",
              "      <td>1.0</td>\n",
              "      <td>42.0</td>\n",
              "      <td>7.0</td>\n",
              "      <td>8268.0</td>\n",
              "      <td>2.0</td>\n",
              "      <td>3.0</td>\n",
              "      <td>-1.0</td>\n",
              "      <td>-1.0</td>\n",
              "    </tr>\n",
              "    <tr>\n",
              "      <th>2</th>\n",
              "      <td>200501BS00003</td>\n",
              "      <td>524520.0</td>\n",
              "      <td>182240.0</td>\n",
              "      <td>-0.206458</td>\n",
              "      <td>51.525301</td>\n",
              "      <td>1.0</td>\n",
              "      <td>3.0</td>\n",
              "      <td>2.0</td>\n",
              "      <td>1.0</td>\n",
              "      <td>06/01/2005</td>\n",
              "      <td>...</td>\n",
              "      <td>1.0</td>\n",
              "      <td>1.0</td>\n",
              "      <td>1.0</td>\n",
              "      <td>35.0</td>\n",
              "      <td>6.0</td>\n",
              "      <td>8300.0</td>\n",
              "      <td>2.0</td>\n",
              "      <td>5.0</td>\n",
              "      <td>2.0</td>\n",
              "      <td>1.0</td>\n",
              "    </tr>\n",
              "    <tr>\n",
              "      <th>3</th>\n",
              "      <td>200501BS00003</td>\n",
              "      <td>524520.0</td>\n",
              "      <td>182240.0</td>\n",
              "      <td>-0.206458</td>\n",
              "      <td>51.525301</td>\n",
              "      <td>1.0</td>\n",
              "      <td>3.0</td>\n",
              "      <td>2.0</td>\n",
              "      <td>1.0</td>\n",
              "      <td>06/01/2005</td>\n",
              "      <td>...</td>\n",
              "      <td>1.0</td>\n",
              "      <td>15.0</td>\n",
              "      <td>1.0</td>\n",
              "      <td>62.0</td>\n",
              "      <td>9.0</td>\n",
              "      <td>1762.0</td>\n",
              "      <td>1.0</td>\n",
              "      <td>6.0</td>\n",
              "      <td>1.0</td>\n",
              "      <td>1.0</td>\n",
              "    </tr>\n",
              "    <tr>\n",
              "      <th>4</th>\n",
              "      <td>200501BS00004</td>\n",
              "      <td>526900.0</td>\n",
              "      <td>177530.0</td>\n",
              "      <td>-0.173862</td>\n",
              "      <td>51.482442</td>\n",
              "      <td>1.0</td>\n",
              "      <td>3.0</td>\n",
              "      <td>1.0</td>\n",
              "      <td>1.0</td>\n",
              "      <td>07/01/2005</td>\n",
              "      <td>...</td>\n",
              "      <td>1.0</td>\n",
              "      <td>15.0</td>\n",
              "      <td>2.0</td>\n",
              "      <td>49.0</td>\n",
              "      <td>8.0</td>\n",
              "      <td>1769.0</td>\n",
              "      <td>1.0</td>\n",
              "      <td>4.0</td>\n",
              "      <td>2.0</td>\n",
              "      <td>1.0</td>\n",
              "    </tr>\n",
              "  </tbody>\n",
              "</table>\n",
              "<p>5 rows × 53 columns</p>\n",
              "</div>\n",
              "      <button class=\"colab-df-convert\" onclick=\"convertToInteractive('df-a3bef533-cf77-42f2-93fb-0e78af14c8c0')\"\n",
              "              title=\"Convert this dataframe to an interactive table.\"\n",
              "              style=\"display:none;\">\n",
              "        \n",
              "  <svg xmlns=\"http://www.w3.org/2000/svg\" height=\"24px\"viewBox=\"0 0 24 24\"\n",
              "       width=\"24px\">\n",
              "    <path d=\"M0 0h24v24H0V0z\" fill=\"none\"/>\n",
              "    <path d=\"M18.56 5.44l.94 2.06.94-2.06 2.06-.94-2.06-.94-.94-2.06-.94 2.06-2.06.94zm-11 1L8.5 8.5l.94-2.06 2.06-.94-2.06-.94L8.5 2.5l-.94 2.06-2.06.94zm10 10l.94 2.06.94-2.06 2.06-.94-2.06-.94-.94-2.06-.94 2.06-2.06.94z\"/><path d=\"M17.41 7.96l-1.37-1.37c-.4-.4-.92-.59-1.43-.59-.52 0-1.04.2-1.43.59L10.3 9.45l-7.72 7.72c-.78.78-.78 2.05 0 2.83L4 21.41c.39.39.9.59 1.41.59.51 0 1.02-.2 1.41-.59l7.78-7.78 2.81-2.81c.8-.78.8-2.07 0-2.86zM5.41 20L4 18.59l7.72-7.72 1.47 1.35L5.41 20z\"/>\n",
              "  </svg>\n",
              "      </button>\n",
              "      \n",
              "  <style>\n",
              "    .colab-df-container {\n",
              "      display:flex;\n",
              "      flex-wrap:wrap;\n",
              "      gap: 12px;\n",
              "    }\n",
              "\n",
              "    .colab-df-convert {\n",
              "      background-color: #E8F0FE;\n",
              "      border: none;\n",
              "      border-radius: 50%;\n",
              "      cursor: pointer;\n",
              "      display: none;\n",
              "      fill: #1967D2;\n",
              "      height: 32px;\n",
              "      padding: 0 0 0 0;\n",
              "      width: 32px;\n",
              "    }\n",
              "\n",
              "    .colab-df-convert:hover {\n",
              "      background-color: #E2EBFA;\n",
              "      box-shadow: 0px 1px 2px rgba(60, 64, 67, 0.3), 0px 1px 3px 1px rgba(60, 64, 67, 0.15);\n",
              "      fill: #174EA6;\n",
              "    }\n",
              "\n",
              "    [theme=dark] .colab-df-convert {\n",
              "      background-color: #3B4455;\n",
              "      fill: #D2E3FC;\n",
              "    }\n",
              "\n",
              "    [theme=dark] .colab-df-convert:hover {\n",
              "      background-color: #434B5C;\n",
              "      box-shadow: 0px 1px 3px 1px rgba(0, 0, 0, 0.15);\n",
              "      filter: drop-shadow(0px 1px 2px rgba(0, 0, 0, 0.3));\n",
              "      fill: #FFFFFF;\n",
              "    }\n",
              "  </style>\n",
              "\n",
              "      <script>\n",
              "        const buttonEl =\n",
              "          document.querySelector('#df-a3bef533-cf77-42f2-93fb-0e78af14c8c0 button.colab-df-convert');\n",
              "        buttonEl.style.display =\n",
              "          google.colab.kernel.accessAllowed ? 'block' : 'none';\n",
              "\n",
              "        async function convertToInteractive(key) {\n",
              "          const element = document.querySelector('#df-a3bef533-cf77-42f2-93fb-0e78af14c8c0');\n",
              "          const dataTable =\n",
              "            await google.colab.kernel.invokeFunction('convertToInteractive',\n",
              "                                                     [key], {});\n",
              "          if (!dataTable) return;\n",
              "\n",
              "          const docLinkHtml = 'Like what you see? Visit the ' +\n",
              "            '<a target=\"_blank\" href=https://colab.research.google.com/notebooks/data_table.ipynb>data table notebook</a>'\n",
              "            + ' to learn more about interactive tables.';\n",
              "          element.innerHTML = '';\n",
              "          dataTable['output_type'] = 'display_data';\n",
              "          await google.colab.output.renderOutput(dataTable, element);\n",
              "          const docLink = document.createElement('div');\n",
              "          docLink.innerHTML = docLinkHtml;\n",
              "          element.appendChild(docLink);\n",
              "        }\n",
              "      </script>\n",
              "    </div>\n",
              "  </div>\n",
              "  "
            ]
          },
          "metadata": {},
          "execution_count": 9
        }
      ],
      "source": [
        "data.head()"
      ]
    },
    {
      "cell_type": "code",
      "execution_count": null,
      "id": "d7fd911e",
      "metadata": {
        "colab": {
          "base_uri": "https://localhost:8080/"
        },
        "id": "d7fd911e",
        "outputId": "5c83d3d1-7609-4e33-b968-3890fa48e775"
      },
      "outputs": [
        {
          "output_type": "stream",
          "name": "stdout",
          "text": [
            "<class 'pandas.core.frame.DataFrame'>\n",
            "Int64Index: 109135 entries, 0 to 109134\n",
            "Data columns (total 53 columns):\n",
            " #   Column                                       Non-Null Count   Dtype  \n",
            "---  ------                                       --------------   -----  \n",
            " 0   Accident_Index                               109135 non-null  object \n",
            " 1   Location_Easting_OSGR                        109102 non-null  float64\n",
            " 2   Location_Northing_OSGR                       109102 non-null  float64\n",
            " 3   Longitude                                    109102 non-null  float64\n",
            " 4   Latitude                                     109102 non-null  float64\n",
            " 5   Police_Force                                 109133 non-null  float64\n",
            " 6   Accident_Severity                            109133 non-null  float64\n",
            " 7   Number_of_Vehicles                           109133 non-null  float64\n",
            " 8   Number_of_Casualties                         109133 non-null  float64\n",
            " 9   Date                                         109133 non-null  object \n",
            " 10  Day_of_Week                                  109133 non-null  float64\n",
            " 11  Time                                         109132 non-null  object \n",
            " 12  Local_Authority_(District)                   109133 non-null  float64\n",
            " 13  Local_Authority_(Highway)                    109133 non-null  object \n",
            " 14  1st_Road_Class                               109133 non-null  float64\n",
            " 15  1st_Road_Number                              109133 non-null  float64\n",
            " 16  Road_Type                                    109133 non-null  float64\n",
            " 17  Speed_limit                                  109133 non-null  float64\n",
            " 18  Junction_Detail                              109133 non-null  float64\n",
            " 19  Junction_Control                             109133 non-null  float64\n",
            " 20  2nd_Road_Class                               109133 non-null  float64\n",
            " 21  2nd_Road_Number                              109133 non-null  float64\n",
            " 22  Pedestrian_Crossing-Human_Control            109133 non-null  float64\n",
            " 23  Pedestrian_Crossing-Physical_Facilities      109133 non-null  float64\n",
            " 24  Light_Conditions                             109133 non-null  float64\n",
            " 25  Weather_Conditions                           109133 non-null  float64\n",
            " 26  Road_Surface_Conditions                      109133 non-null  float64\n",
            " 27  Special_Conditions_at_Site                   109133 non-null  float64\n",
            " 28  Carriageway_Hazards                          109133 non-null  float64\n",
            " 29  Urban_or_Rural_Area                          109133 non-null  float64\n",
            " 30  Did_Police_Officer_Attend_Scene_of_Accident  109133 non-null  float64\n",
            " 31  LSOA_of_Accident_Location                    108975 non-null  object \n",
            " 32  Vehicle_Reference                            46069 non-null   float64\n",
            " 33  Vehicle_Type                                 46069 non-null   float64\n",
            " 34  Towing_and_Articulation                      46069 non-null   float64\n",
            " 35  Vehicle_Manoeuvre                            46069 non-null   float64\n",
            " 36  Vehicle_Location-Restricted_Lane             46069 non-null   float64\n",
            " 37  Junction_Location                            46069 non-null   float64\n",
            " 38  Skidding_and_Overturning                     46069 non-null   float64\n",
            " 39  Hit_Object_in_Carriageway                    46069 non-null   float64\n",
            " 40  Vehicle_Leaving_Carriageway                  46069 non-null   float64\n",
            " 41  Hit_Object_off_Carriageway                   46069 non-null   float64\n",
            " 42  1st_Point_of_Impact                          46069 non-null   float64\n",
            " 43  Was_Vehicle_Left_Hand_Drive?                 46069 non-null   float64\n",
            " 44  Journey_Purpose_of_Driver                    46069 non-null   float64\n",
            " 45  Sex_of_Driver                                46069 non-null   float64\n",
            " 46  Age_of_Driver                                46069 non-null   float64\n",
            " 47  Age_Band_of_Driver                           46069 non-null   float64\n",
            " 48  Engine_Capacity_(CC)                         46069 non-null   float64\n",
            " 49  Propulsion_Code                              46069 non-null   float64\n",
            " 50  Age_of_Vehicle                               46069 non-null   float64\n",
            " 51  Driver_IMD_Decile                            46069 non-null   float64\n",
            " 52  Driver_Home_Area_Type                        46069 non-null   float64\n",
            "dtypes: float64(48), object(5)\n",
            "memory usage: 45.0+ MB\n"
          ]
        }
      ],
      "source": [
        "data.info()"
      ]
    },
    {
      "cell_type": "markdown",
      "id": "61d03318",
      "metadata": {
        "id": "61d03318"
      },
      "source": [
        "Description of variables:\n",
        "    Accident_Severity:1-Fatal,2-Serious,3-Slight\n",
        "    Road_Type:1-Roundabout,2-One way street,3-Dual carriageway,\n",
        "        6-Single carriageway,7-Slip road,9-Unknown \n",
        "    Road_Surface_Conditions:1-Dry,2-Wet or damp,3-Snow,4-Frost or ice,\n",
        "       5-Flood over 3cm. deep\n",
        "    Skidding_and_Overturning:0-None,1-Skidded,2-Skidded and overturned,\n",
        "       5-Overturned \n",
        "    Weather_Conditions:1-Fine no high winds,2-Raining no high winds,\n",
        "         3-Snowing no high winds,4-Fine + high winds,5-Raining + high winds,\n",
        "         6-Snowing + high winds,7-Fog or mist,8-Other,9-Unknown\n",
        "    "
      ]
    },
    {
      "cell_type": "code",
      "execution_count": null,
      "id": "dd2ef0f2",
      "metadata": {
        "id": "dd2ef0f2"
      },
      "outputs": [],
      "source": [
        "#Filling the missing values by using dropna() method.\n",
        "#Our dataset contains null values in the format -1 and NAN\n",
        "for column in data.columns:\n",
        "    data=(data[data[column]!=-1])\n",
        "data.dropna(inplace=True)"
      ]
    },
    {
      "cell_type": "code",
      "execution_count": null,
      "id": "e49dd59c",
      "metadata": {
        "colab": {
          "base_uri": "https://localhost:8080/"
        },
        "id": "e49dd59c",
        "outputId": "b9bf97a4-1681-40fd-adc6-73b00193883b"
      },
      "outputs": [
        {
          "output_type": "execute_result",
          "data": {
            "text/plain": [
              "Accident_Index                                 0\n",
              "Location_Easting_OSGR                          0\n",
              "Location_Northing_OSGR                         0\n",
              "Longitude                                      0\n",
              "Latitude                                       0\n",
              "Police_Force                                   0\n",
              "Accident_Severity                              0\n",
              "Number_of_Vehicles                             0\n",
              "Number_of_Casualties                           0\n",
              "Date                                           0\n",
              "Day_of_Week                                    0\n",
              "Time                                           0\n",
              "Local_Authority_(District)                     0\n",
              "Local_Authority_(Highway)                      0\n",
              "1st_Road_Class                                 0\n",
              "1st_Road_Number                                0\n",
              "Road_Type                                      0\n",
              "Speed_limit                                    0\n",
              "Junction_Detail                                0\n",
              "Junction_Control                               0\n",
              "2nd_Road_Class                                 0\n",
              "2nd_Road_Number                                0\n",
              "Pedestrian_Crossing-Human_Control              0\n",
              "Pedestrian_Crossing-Physical_Facilities        0\n",
              "Light_Conditions                               0\n",
              "Weather_Conditions                             0\n",
              "Road_Surface_Conditions                        0\n",
              "Special_Conditions_at_Site                     0\n",
              "Carriageway_Hazards                            0\n",
              "Urban_or_Rural_Area                            0\n",
              "Did_Police_Officer_Attend_Scene_of_Accident    0\n",
              "LSOA_of_Accident_Location                      0\n",
              "Vehicle_Reference                              0\n",
              "Vehicle_Type                                   0\n",
              "Towing_and_Articulation                        0\n",
              "Vehicle_Manoeuvre                              0\n",
              "Vehicle_Location-Restricted_Lane               0\n",
              "Junction_Location                              0\n",
              "Skidding_and_Overturning                       0\n",
              "Hit_Object_in_Carriageway                      0\n",
              "Vehicle_Leaving_Carriageway                    0\n",
              "Hit_Object_off_Carriageway                     0\n",
              "1st_Point_of_Impact                            0\n",
              "Was_Vehicle_Left_Hand_Drive?                   0\n",
              "Journey_Purpose_of_Driver                      0\n",
              "Sex_of_Driver                                  0\n",
              "Age_of_Driver                                  0\n",
              "Age_Band_of_Driver                             0\n",
              "Engine_Capacity_(CC)                           0\n",
              "Propulsion_Code                                0\n",
              "Age_of_Vehicle                                 0\n",
              "Driver_IMD_Decile                              0\n",
              "Driver_Home_Area_Type                          0\n",
              "dtype: int64"
            ]
          },
          "metadata": {},
          "execution_count": 12
        }
      ],
      "source": [
        "data.isnull().sum()\n",
        "#We can see that all columns have no null values."
      ]
    },
    {
      "cell_type": "code",
      "execution_count": null,
      "id": "790ea6ed",
      "metadata": {
        "colab": {
          "base_uri": "https://localhost:8080/"
        },
        "id": "790ea6ed",
        "outputId": "d20b33a9-df3a-49ae-bc48-7b987ab879cf"
      },
      "outputs": [
        {
          "output_type": "stream",
          "name": "stdout",
          "text": [
            "<class 'pandas.core.frame.DataFrame'>\n",
            "Int64Index: 14027 entries, 9 to 46068\n",
            "Data columns (total 53 columns):\n",
            " #   Column                                       Non-Null Count  Dtype  \n",
            "---  ------                                       --------------  -----  \n",
            " 0   Accident_Index                               14027 non-null  object \n",
            " 1   Location_Easting_OSGR                        14027 non-null  float64\n",
            " 2   Location_Northing_OSGR                       14027 non-null  float64\n",
            " 3   Longitude                                    14027 non-null  float64\n",
            " 4   Latitude                                     14027 non-null  float64\n",
            " 5   Police_Force                                 14027 non-null  float64\n",
            " 6   Accident_Severity                            14027 non-null  float64\n",
            " 7   Number_of_Vehicles                           14027 non-null  float64\n",
            " 8   Number_of_Casualties                         14027 non-null  float64\n",
            " 9   Date                                         14027 non-null  object \n",
            " 10  Day_of_Week                                  14027 non-null  float64\n",
            " 11  Time                                         14027 non-null  object \n",
            " 12  Local_Authority_(District)                   14027 non-null  float64\n",
            " 13  Local_Authority_(Highway)                    14027 non-null  object \n",
            " 14  1st_Road_Class                               14027 non-null  float64\n",
            " 15  1st_Road_Number                              14027 non-null  float64\n",
            " 16  Road_Type                                    14027 non-null  float64\n",
            " 17  Speed_limit                                  14027 non-null  float64\n",
            " 18  Junction_Detail                              14027 non-null  float64\n",
            " 19  Junction_Control                             14027 non-null  float64\n",
            " 20  2nd_Road_Class                               14027 non-null  float64\n",
            " 21  2nd_Road_Number                              14027 non-null  float64\n",
            " 22  Pedestrian_Crossing-Human_Control            14027 non-null  float64\n",
            " 23  Pedestrian_Crossing-Physical_Facilities      14027 non-null  float64\n",
            " 24  Light_Conditions                             14027 non-null  float64\n",
            " 25  Weather_Conditions                           14027 non-null  float64\n",
            " 26  Road_Surface_Conditions                      14027 non-null  float64\n",
            " 27  Special_Conditions_at_Site                   14027 non-null  float64\n",
            " 28  Carriageway_Hazards                          14027 non-null  float64\n",
            " 29  Urban_or_Rural_Area                          14027 non-null  float64\n",
            " 30  Did_Police_Officer_Attend_Scene_of_Accident  14027 non-null  float64\n",
            " 31  LSOA_of_Accident_Location                    14027 non-null  object \n",
            " 32  Vehicle_Reference                            14027 non-null  float64\n",
            " 33  Vehicle_Type                                 14027 non-null  float64\n",
            " 34  Towing_and_Articulation                      14027 non-null  float64\n",
            " 35  Vehicle_Manoeuvre                            14027 non-null  float64\n",
            " 36  Vehicle_Location-Restricted_Lane             14027 non-null  float64\n",
            " 37  Junction_Location                            14027 non-null  float64\n",
            " 38  Skidding_and_Overturning                     14027 non-null  float64\n",
            " 39  Hit_Object_in_Carriageway                    14027 non-null  float64\n",
            " 40  Vehicle_Leaving_Carriageway                  14027 non-null  float64\n",
            " 41  Hit_Object_off_Carriageway                   14027 non-null  float64\n",
            " 42  1st_Point_of_Impact                          14027 non-null  float64\n",
            " 43  Was_Vehicle_Left_Hand_Drive?                 14027 non-null  float64\n",
            " 44  Journey_Purpose_of_Driver                    14027 non-null  float64\n",
            " 45  Sex_of_Driver                                14027 non-null  float64\n",
            " 46  Age_of_Driver                                14027 non-null  float64\n",
            " 47  Age_Band_of_Driver                           14027 non-null  float64\n",
            " 48  Engine_Capacity_(CC)                         14027 non-null  float64\n",
            " 49  Propulsion_Code                              14027 non-null  float64\n",
            " 50  Age_of_Vehicle                               14027 non-null  float64\n",
            " 51  Driver_IMD_Decile                            14027 non-null  float64\n",
            " 52  Driver_Home_Area_Type                        14027 non-null  float64\n",
            "dtypes: float64(48), object(5)\n",
            "memory usage: 5.8+ MB\n"
          ]
        }
      ],
      "source": [
        "data.info()"
      ]
    },
    {
      "cell_type": "code",
      "execution_count": null,
      "id": "cb7084ab",
      "metadata": {
        "colab": {
          "base_uri": "https://localhost:8080/"
        },
        "id": "cb7084ab",
        "outputId": "438c7850-5a3d-4059-a7ca-b1f774777bd0"
      },
      "outputs": [
        {
          "output_type": "execute_result",
          "data": {
            "text/plain": [
              "array([3., 2., 1.])"
            ]
          },
          "metadata": {},
          "execution_count": 14
        }
      ],
      "source": [
        "data['Accident_Severity'].unique()\n",
        "#The column 'Accident_Severity' has 3 unique values:1,2,3 indicating Fatal,Severe and Slight Accident "
      ]
    },
    {
      "cell_type": "code",
      "source": [
        "data['Road_Type'].unique()"
      ],
      "metadata": {
        "colab": {
          "base_uri": "https://localhost:8080/"
        },
        "id": "cAOQbqBRfNZo",
        "outputId": "42a986c1-9926-4a45-afab-5bbe099445ea"
      },
      "id": "cAOQbqBRfNZo",
      "execution_count": null,
      "outputs": [
        {
          "output_type": "execute_result",
          "data": {
            "text/plain": [
              "array([6., 2., 3., 1., 9., 7.])"
            ]
          },
          "metadata": {},
          "execution_count": 14
        }
      ]
    },
    {
      "cell_type": "code",
      "source": [
        "data['Road_Surface_Conditions'].unique()"
      ],
      "metadata": {
        "colab": {
          "base_uri": "https://localhost:8080/"
        },
        "id": "s9L8W6iBfVn9",
        "outputId": "a4431c2d-8bf0-402f-e64b-f54482dd53fd"
      },
      "id": "s9L8W6iBfVn9",
      "execution_count": null,
      "outputs": [
        {
          "output_type": "execute_result",
          "data": {
            "text/plain": [
              "array([1., 2., 4., 3., 5.])"
            ]
          },
          "metadata": {},
          "execution_count": 15
        }
      ]
    },
    {
      "cell_type": "code",
      "source": [
        "data['Skidding_and_Overturning'].unique()"
      ],
      "metadata": {
        "colab": {
          "base_uri": "https://localhost:8080/"
        },
        "id": "4QOJIxPofcpJ",
        "outputId": "07bbaeea-8a4b-4b1d-9cb0-9f586c51acca"
      },
      "id": "4QOJIxPofcpJ",
      "execution_count": null,
      "outputs": [
        {
          "output_type": "execute_result",
          "data": {
            "text/plain": [
              "array([0., 1., 5., 2.])"
            ]
          },
          "metadata": {},
          "execution_count": 16
        }
      ]
    },
    {
      "cell_type": "code",
      "execution_count": null,
      "id": "5b7a2bce",
      "metadata": {
        "id": "5b7a2bce"
      },
      "outputs": [],
      "source": [
        "import pandas as pd\n",
        "data.to_csv(\"Accidents_data.csv\")"
      ]
    },
    {
      "cell_type": "code",
      "execution_count": null,
      "id": "7f0e38b2",
      "metadata": {
        "colab": {
          "base_uri": "https://localhost:8080/"
        },
        "id": "7f0e38b2",
        "outputId": "9284ae0f-cab9-484c-f667-58643e94906f"
      },
      "outputs": [
        {
          "output_type": "execute_result",
          "data": {
            "text/plain": [
              "array([3., 2., 1.])"
            ]
          },
          "metadata": {},
          "execution_count": 16
        }
      ],
      "source": [
        "data['Accident_Severity'].unique()"
      ]
    },
    {
      "cell_type": "code",
      "source": [
        "data['Weather_Conditions'].unique()"
      ],
      "metadata": {
        "colab": {
          "base_uri": "https://localhost:8080/"
        },
        "id": "_mTOvphTf_Py",
        "outputId": "11266808-d174-4410-e4eb-aa716fc46fd6"
      },
      "id": "_mTOvphTf_Py",
      "execution_count": null,
      "outputs": [
        {
          "output_type": "execute_result",
          "data": {
            "text/plain": [
              "array([1., 2., 3., 8., 4., 5., 9., 7., 6.])"
            ]
          },
          "metadata": {},
          "execution_count": 17
        }
      ]
    },
    {
      "cell_type": "code",
      "execution_count": null,
      "id": "6cb2be65",
      "metadata": {
        "colab": {
          "base_uri": "https://localhost:8080/"
        },
        "id": "6cb2be65",
        "outputId": "aff68b8a-5b8c-40ed-923c-89494589f4a8"
      },
      "outputs": [
        {
          "output_type": "execute_result",
          "data": {
            "text/plain": [
              "Accident_Index                                 13957\n",
              "Location_Easting_OSGR                          13957\n",
              "Location_Northing_OSGR                         13957\n",
              "Longitude                                      13957\n",
              "Latitude                                       13957\n",
              "Police_Force                                   13957\n",
              "Accident_Severity                              13957\n",
              "Number_of_Vehicles                             13957\n",
              "Number_of_Casualties                           13957\n",
              "Date                                           13957\n",
              "Day_of_Week                                    13957\n",
              "Time                                           13957\n",
              "Local_Authority_(District)                     13957\n",
              "Local_Authority_(Highway)                      13957\n",
              "1st_Road_Class                                 13957\n",
              "1st_Road_Number                                13957\n",
              "Road_Type                                      13957\n",
              "Speed_limit                                    13957\n",
              "Junction_Detail                                13957\n",
              "Junction_Control                               13957\n",
              "2nd_Road_Class                                 13957\n",
              "2nd_Road_Number                                13957\n",
              "Pedestrian_Crossing-Human_Control              13957\n",
              "Pedestrian_Crossing-Physical_Facilities        13957\n",
              "Light_Conditions                               13957\n",
              "Weather_Conditions                             13957\n",
              "Road_Surface_Conditions                        13957\n",
              "Special_Conditions_at_Site                     13957\n",
              "Carriageway_Hazards                            13957\n",
              "Urban_or_Rural_Area                            13957\n",
              "Did_Police_Officer_Attend_Scene_of_Accident    13957\n",
              "LSOA_of_Accident_Location                      13957\n",
              "Vehicle_Reference                              13957\n",
              "Vehicle_Type                                   13957\n",
              "Towing_and_Articulation                        13957\n",
              "Vehicle_Manoeuvre                              13957\n",
              "Vehicle_Location-Restricted_Lane               13957\n",
              "Junction_Location                              13957\n",
              "Skidding_and_Overturning                       13957\n",
              "Hit_Object_in_Carriageway                      13957\n",
              "Vehicle_Leaving_Carriageway                    13957\n",
              "Hit_Object_off_Carriageway                     13957\n",
              "1st_Point_of_Impact                            13957\n",
              "Was_Vehicle_Left_Hand_Drive?                   13957\n",
              "Journey_Purpose_of_Driver                      13957\n",
              "Sex_of_Driver                                  13957\n",
              "Age_of_Driver                                  13957\n",
              "Age_Band_of_Driver                             13957\n",
              "Engine_Capacity_(CC)                           13957\n",
              "Propulsion_Code                                13957\n",
              "Age_of_Vehicle                                 13957\n",
              "Driver_IMD_Decile                              13957\n",
              "Driver_Home_Area_Type                          13957\n",
              "dtype: int64"
            ]
          },
          "metadata": {},
          "execution_count": 17
        }
      ],
      "source": [
        "data[(data['Accident_Severity']!=1)].count()"
      ]
    },
    {
      "cell_type": "markdown",
      "id": "1695f75a",
      "metadata": {
        "id": "1695f75a"
      },
      "source": [
        "Visualization:"
      ]
    },
    {
      "cell_type": "markdown",
      "id": "2fe5fe60",
      "metadata": {
        "id": "2fe5fe60"
      },
      "source": [
        "How many accidents are severe to the most?"
      ]
    },
    {
      "cell_type": "code",
      "execution_count": null,
      "id": "a6c8fd5d",
      "metadata": {
        "id": "a6c8fd5d"
      },
      "outputs": [],
      "source": [
        "import seaborn as sns"
      ]
    },
    {
      "cell_type": "code",
      "execution_count": null,
      "id": "159e57d3",
      "metadata": {
        "id": "159e57d3",
        "outputId": "38e2bf03-7b81-4a7f-df0c-e380402d6f81",
        "colab": {
          "base_uri": "https://localhost:8080/",
          "height": 352
        }
      },
      "outputs": [
        {
          "output_type": "stream",
          "name": "stderr",
          "text": [
            "/usr/local/lib/python3.7/dist-packages/seaborn/_decorators.py:43: FutureWarning: Pass the following variable as a keyword arg: x. From version 0.12, the only valid positional argument will be `data`, and passing other arguments without an explicit keyword will result in an error or misinterpretation.\n",
            "  FutureWarning\n"
          ]
        },
        {
          "output_type": "execute_result",
          "data": {
            "text/plain": [
              "<matplotlib.axes._subplots.AxesSubplot at 0x7f94081ed110>"
            ]
          },
          "metadata": {},
          "execution_count": 19
        },
        {
          "output_type": "display_data",
          "data": {
            "text/plain": [
              "<Figure size 432x288 with 1 Axes>"
            ],
            "image/png": "[encoded data removed]"
          },
          "metadata": {
            "needs_background": "light"
          }
        }
      ],
      "source": [
        "sns.countplot(data['Accident_Severity'])"
      ]
    },
    {
      "cell_type": "markdown",
      "id": "66aadbc0",
      "metadata": {
        "id": "66aadbc0"
      },
      "source": [
        "From the plot,we can see that most of the accidents are slight only."
      ]
    },
    {
      "cell_type": "code",
      "execution_count": null,
      "id": "be5e8f6f",
      "metadata": {
        "id": "be5e8f6f",
        "outputId": "351b7569-b8e7-4446-9711-588d3f7724d8",
        "colab": {
          "base_uri": "https://localhost:8080/"
        }
      },
      "outputs": [
        {
          "output_type": "execute_result",
          "data": {
            "text/plain": [
              "Accident_Index                                 70\n",
              "Location_Easting_OSGR                          70\n",
              "Location_Northing_OSGR                         70\n",
              "Longitude                                      70\n",
              "Latitude                                       70\n",
              "Police_Force                                   70\n",
              "Accident_Severity                              70\n",
              "Number_of_Vehicles                             70\n",
              "Number_of_Casualties                           70\n",
              "Date                                           70\n",
              "Day_of_Week                                    70\n",
              "Time                                           70\n",
              "Local_Authority_(District)                     70\n",
              "Local_Authority_(Highway)                      70\n",
              "1st_Road_Class                                 70\n",
              "1st_Road_Number                                70\n",
              "Road_Type                                      70\n",
              "Speed_limit                                    70\n",
              "Junction_Detail                                70\n",
              "Junction_Control                               70\n",
              "2nd_Road_Class                                 70\n",
              "2nd_Road_Number                                70\n",
              "Pedestrian_Crossing-Human_Control              70\n",
              "Pedestrian_Crossing-Physical_Facilities        70\n",
              "Light_Conditions                               70\n",
              "Weather_Conditions                             70\n",
              "Road_Surface_Conditions                        70\n",
              "Special_Conditions_at_Site                     70\n",
              "Carriageway_Hazards                            70\n",
              "Urban_or_Rural_Area                            70\n",
              "Did_Police_Officer_Attend_Scene_of_Accident    70\n",
              "LSOA_of_Accident_Location                      70\n",
              "Vehicle_Reference                              70\n",
              "Vehicle_Type                                   70\n",
              "Towing_and_Articulation                        70\n",
              "Vehicle_Manoeuvre                              70\n",
              "Vehicle_Location-Restricted_Lane               70\n",
              "Junction_Location                              70\n",
              "Skidding_and_Overturning                       70\n",
              "Hit_Object_in_Carriageway                      70\n",
              "Vehicle_Leaving_Carriageway                    70\n",
              "Hit_Object_off_Carriageway                     70\n",
              "1st_Point_of_Impact                            70\n",
              "Was_Vehicle_Left_Hand_Drive?                   70\n",
              "Journey_Purpose_of_Driver                      70\n",
              "Sex_of_Driver                                  70\n",
              "Age_of_Driver                                  70\n",
              "Age_Band_of_Driver                             70\n",
              "Engine_Capacity_(CC)                           70\n",
              "Propulsion_Code                                70\n",
              "Age_of_Vehicle                                 70\n",
              "Driver_IMD_Decile                              70\n",
              "Driver_Home_Area_Type                          70\n",
              "dtype: int64"
            ]
          },
          "metadata": {},
          "execution_count": 20
        }
      ],
      "source": [
        "data[data['Accident_Severity']==1].count()"
      ]
    },
    {
      "cell_type": "markdown",
      "id": "be793189",
      "metadata": {
        "id": "be793189"
      },
      "source": [
        "Inference:\n",
        "    From this we can see that 70 persons from our data have been met with most severe accident which endangered their life."
      ]
    },
    {
      "cell_type": "code",
      "execution_count": null,
      "id": "2039c7b8",
      "metadata": {
        "id": "2039c7b8",
        "outputId": "152d7245-9256-4fda-fb47-d781e660e803",
        "colab": {
          "base_uri": "https://localhost:8080/",
          "height": 352
        }
      },
      "outputs": [
        {
          "output_type": "stream",
          "name": "stderr",
          "text": [
            "/usr/local/lib/python3.7/dist-packages/seaborn/distributions.py:2619: FutureWarning: `distplot` is a deprecated function and will be removed in a future version. Please adapt your code to use either `displot` (a figure-level function with similar flexibility) or `histplot` (an axes-level function for histograms).\n",
            "  warnings.warn(msg, FutureWarning)\n"
          ]
        },
        {
          "output_type": "execute_result",
          "data": {
            "text/plain": [
              "<matplotlib.axes._subplots.AxesSubplot at 0x7f94074f4d10>"
            ]
          },
          "metadata": {},
          "execution_count": 21
        },
        {
          "output_type": "display_data",
          "data": {
            "text/plain": [
              "<Figure size 432x288 with 1 Axes>"
            ],
            "image/png": "[encoded data removed]"
          },
          "metadata": {
            "needs_background": "light"
          }
        }
      ],
      "source": [
        "sns.distplot(data['Speed_limit'])"
      ]
    },
    {
      "cell_type": "markdown",
      "source": [
        "In our dataset,the Spped limit is distributed in the range of 20-70."
      ],
      "metadata": {
        "id": "1--A9ubklXPi"
      },
      "id": "1--A9ubklXPi"
    },
    {
      "cell_type": "code",
      "execution_count": null,
      "id": "49b93075",
      "metadata": {
        "id": "49b93075",
        "outputId": "bc2885a3-754d-43f5-8043-4964cbb8fc83",
        "colab": {
          "base_uri": "https://localhost:8080/",
          "height": 356
        }
      },
      "outputs": [
        {
          "output_type": "stream",
          "name": "stderr",
          "text": [
            "/usr/local/lib/python3.7/dist-packages/seaborn/_decorators.py:43: FutureWarning: Pass the following variables as keyword args: x, y. From version 0.12, the only valid positional argument will be `data`, and passing other arguments without an explicit keyword will result in an error or misinterpretation.\n",
            "  FutureWarning\n"
          ]
        },
        {
          "output_type": "execute_result",
          "data": {
            "text/plain": [
              "<matplotlib.axes._subplots.AxesSubplot at 0x7f9400ad2750>"
            ]
          },
          "metadata": {},
          "execution_count": 27
        },
        {
          "output_type": "display_data",
          "data": {
            "text/plain": [
              "<Figure size 432x288 with 1 Axes>"
            ],
            "image/png": "[encoded data removed]"
          },
          "metadata": {
            "needs_background": "light"
          }
        }
      ],
      "source": [
        "sns.violinplot(data['Number_of_Casualties'],data['Road_Type'],hue=data['Accident_Severity'])"
      ]
    },
    {
      "cell_type": "markdown",
      "id": "bee55060",
      "metadata": {
        "id": "bee55060"
      },
      "source": [
        "Identifying dependent and independent features:"
      ]
    },
    {
      "cell_type": "code",
      "execution_count": null,
      "id": "25600696",
      "metadata": {
        "id": "25600696"
      },
      "outputs": [],
      "source": [
        "y=data['Accident_Severity']\n",
        "x=data[['Longitude','Latitude','Number_of_Vehicles','Number_of_Casualties','Road_Type','Speed_limit','Weather_Conditions','Road_Surface_Conditions','Skidding_and_Overturning']]"
      ]
    },
    {
      "cell_type": "markdown",
      "source": [
        "Splitting the dataset into train and test:"
      ],
      "metadata": {
        "id": "zoggclRLiSFw"
      },
      "id": "zoggclRLiSFw"
    },
    {
      "cell_type": "code",
      "execution_count": null,
      "id": "82e4aed3",
      "metadata": {
        "id": "82e4aed3"
      },
      "outputs": [],
      "source": [
        "from sklearn.model_selection import train_test_split"
      ]
    },
    {
      "cell_type": "code",
      "execution_count": null,
      "id": "6c067b8d",
      "metadata": {
        "id": "6c067b8d"
      },
      "outputs": [],
      "source": [
        "x_train,x_test,y_train,y_test=train_test_split(x,y,test_size=0.2,random_state=101)"
      ]
    },
    {
      "cell_type": "markdown",
      "source": [
        "Use Ensemble learning VotingClassifier technique:"
      ],
      "metadata": {
        "id": "hfC3Jn2ui1P7"
      },
      "id": "hfC3Jn2ui1P7"
    },
    {
      "cell_type": "code",
      "execution_count": null,
      "id": "73ceb77d",
      "metadata": {
        "colab": {
          "base_uri": "https://localhost:8080/"
        },
        "id": "73ceb77d",
        "outputId": "c9da1691-6778-46ab-9428-34de1d3a2c62"
      },
      "outputs": [
        {
          "output_type": "stream",
          "name": "stderr",
          "text": [
            "/usr/local/lib/python3.7/dist-packages/sklearn/linear_model/_logistic.py:818: ConvergenceWarning: lbfgs failed to converge (status=1):\n",
            "STOP: TOTAL NO. of ITERATIONS REACHED LIMIT.\n",
            "\n",
            "Increase the number of iterations (max_iter) or scale the data as shown in:\n",
            "    https://scikit-learn.org/stable/modules/preprocessing.html\n",
            "Please also refer to the documentation for alternative solver options:\n",
            "    https://scikit-learn.org/stable/modules/linear_model.html#logistic-regression\n",
            "  extra_warning_msg=_LOGISTIC_SOLVER_CONVERGENCE_MSG,\n"
          ]
        }
      ],
      "source": [
        "#Use ensemble learning:\n",
        "from sklearn.ensemble import VotingClassifier\n",
        "from sklearn.linear_model import LogisticRegression\n",
        "model1=LogisticRegression(max_iter=100)\n",
        "from sklearn.tree import DecisionTreeClassifier\n",
        "model2=DecisionTreeClassifier(random_state=101)\n",
        "from sklearn import svm\n",
        "#Create a svm Classifier\n",
        "model3 = svm.SVC(kernel='linear') # Linear Kernel\n",
        "model=VotingClassifier(estimators=[('log',model1),('dt',model2),('svm',model3)],voting='hard')\n",
        "model.fit(x_train,y_train)\n",
        "pred=model.predict(x_test)"
      ]
    },
    {
      "cell_type": "code",
      "source": [
        "import pandas as pd\n",
        "pred=pd.DataFrame(pred)\n",
        "pred"
      ],
      "metadata": {
        "colab": {
          "base_uri": "https://localhost:8080/",
          "height": 423
        },
        "id": "IW3icq62jZn0",
        "outputId": "c76c5aa8-3ffe-4fc2-c7d4-5d5951420dc5"
      },
      "id": "IW3icq62jZn0",
      "execution_count": null,
      "outputs": [
        {
          "output_type": "execute_result",
          "data": {
            "text/plain": [
              "        0\n",
              "0     3.0\n",
              "1     3.0\n",
              "2     3.0\n",
              "3     3.0\n",
              "4     3.0\n",
              "...   ...\n",
              "2801  3.0\n",
              "2802  3.0\n",
              "2803  3.0\n",
              "2804  3.0\n",
              "2805  3.0\n",
              "\n",
              "[2806 rows x 1 columns]"
            ],
            "text/html": [
              "\n",
              "  <div id=\"df-0a735d9b-7e61-46a1-b1f3-805d37bf18db\">\n",
              "    <div class=\"colab-df-container\">\n",
              "      <div>\n",
              "<style scoped>\n",
              "    .dataframe tbody tr th:only-of-type {\n",
              "        vertical-align: middle;\n",
              "    }\n",
              "\n",
              "    .dataframe tbody tr th {\n",
              "        vertical-align: top;\n",
              "    }\n",
              "\n",
              "    .dataframe thead th {\n",
              "        text-align: right;\n",
              "    }\n",
              "</style>\n",
              "<table border=\"1\" class=\"dataframe\">\n",
              "  <thead>\n",
              "    <tr style=\"text-align: right;\">\n",
              "      <th></th>\n",
              "      <th>0</th>\n",
              "    </tr>\n",
              "  </thead>\n",
              "  <tbody>\n",
              "    <tr>\n",
              "      <th>0</th>\n",
              "      <td>3.0</td>\n",
              "    </tr>\n",
              "    <tr>\n",
              "      <th>1</th>\n",
              "      <td>3.0</td>\n",
              "    </tr>\n",
              "    <tr>\n",
              "      <th>2</th>\n",
              "      <td>3.0</td>\n",
              "    </tr>\n",
              "    <tr>\n",
              "      <th>3</th>\n",
              "      <td>3.0</td>\n",
              "    </tr>\n",
              "    <tr>\n",
              "      <th>4</th>\n",
              "      <td>3.0</td>\n",
              "    </tr>\n",
              "    <tr>\n",
              "      <th>...</th>\n",
              "      <td>...</td>\n",
              "    </tr>\n",
              "    <tr>\n",
              "      <th>2801</th>\n",
              "      <td>3.0</td>\n",
              "    </tr>\n",
              "    <tr>\n",
              "      <th>2802</th>\n",
              "      <td>3.0</td>\n",
              "    </tr>\n",
              "    <tr>\n",
              "      <th>2803</th>\n",
              "      <td>3.0</td>\n",
              "    </tr>\n",
              "    <tr>\n",
              "      <th>2804</th>\n",
              "      <td>3.0</td>\n",
              "    </tr>\n",
              "    <tr>\n",
              "      <th>2805</th>\n",
              "      <td>3.0</td>\n",
              "    </tr>\n",
              "  </tbody>\n",
              "</table>\n",
              "<p>2806 rows × 1 columns</p>\n",
              "</div>\n",
              "      <button class=\"colab-df-convert\" onclick=\"convertToInteractive('df-0a735d9b-7e61-46a1-b1f3-805d37bf18db')\"\n",
              "              title=\"Convert this dataframe to an interactive table.\"\n",
              "              style=\"display:none;\">\n",
              "        \n",
              "  <svg xmlns=\"http://www.w3.org/2000/svg\" height=\"24px\"viewBox=\"0 0 24 24\"\n",
              "       width=\"24px\">\n",
              "    <path d=\"M0 0h24v24H0V0z\" fill=\"none\"/>\n",
              "    <path d=\"M18.56 5.44l.94 2.06.94-2.06 2.06-.94-2.06-.94-.94-2.06-.94 2.06-2.06.94zm-11 1L8.5 8.5l.94-2.06 2.06-.94-2.06-.94L8.5 2.5l-.94 2.06-2.06.94zm10 10l.94 2.06.94-2.06 2.06-.94-2.06-.94-.94-2.06-.94 2.06-2.06.94z\"/><path d=\"M17.41 7.96l-1.37-1.37c-.4-.4-.92-.59-1.43-.59-.52 0-1.04.2-1.43.59L10.3 9.45l-7.72 7.72c-.78.78-.78 2.05 0 2.83L4 21.41c.39.39.9.59 1.41.59.51 0 1.02-.2 1.41-.59l7.78-7.78 2.81-2.81c.8-.78.8-2.07 0-2.86zM5.41 20L4 18.59l7.72-7.72 1.47 1.35L5.41 20z\"/>\n",
              "  </svg>\n",
              "      </button>\n",
              "      \n",
              "  <style>\n",
              "    .colab-df-container {\n",
              "      display:flex;\n",
              "      flex-wrap:wrap;\n",
              "      gap: 12px;\n",
              "    }\n",
              "\n",
              "    .colab-df-convert {\n",
              "      background-color: #E8F0FE;\n",
              "      border: none;\n",
              "      border-radius: 50%;\n",
              "      cursor: pointer;\n",
              "      display: none;\n",
              "      fill: #1967D2;\n",
              "      height: 32px;\n",
              "      padding: 0 0 0 0;\n",
              "      width: 32px;\n",
              "    }\n",
              "\n",
              "    .colab-df-convert:hover {\n",
              "      background-color: #E2EBFA;\n",
              "      box-shadow: 0px 1px 2px rgba(60, 64, 67, 0.3), 0px 1px 3px 1px rgba(60, 64, 67, 0.15);\n",
              "      fill: #174EA6;\n",
              "    }\n",
              "\n",
              "    [theme=dark] .colab-df-convert {\n",
              "      background-color: #3B4455;\n",
              "      fill: #D2E3FC;\n",
              "    }\n",
              "\n",
              "    [theme=dark] .colab-df-convert:hover {\n",
              "      background-color: #434B5C;\n",
              "      box-shadow: 0px 1px 3px 1px rgba(0, 0, 0, 0.15);\n",
              "      filter: drop-shadow(0px 1px 2px rgba(0, 0, 0, 0.3));\n",
              "      fill: #FFFFFF;\n",
              "    }\n",
              "  </style>\n",
              "\n",
              "      <script>\n",
              "        const buttonEl =\n",
              "          document.querySelector('#df-0a735d9b-7e61-46a1-b1f3-805d37bf18db button.colab-df-convert');\n",
              "        buttonEl.style.display =\n",
              "          google.colab.kernel.accessAllowed ? 'block' : 'none';\n",
              "\n",
              "        async function convertToInteractive(key) {\n",
              "          const element = document.querySelector('#df-0a735d9b-7e61-46a1-b1f3-805d37bf18db');\n",
              "          const dataTable =\n",
              "            await google.colab.kernel.invokeFunction('convertToInteractive',\n",
              "                                                     [key], {});\n",
              "          if (!dataTable) return;\n",
              "\n",
              "          const docLinkHtml = 'Like what you see? Visit the ' +\n",
              "            '<a target=\"_blank\" href=https://colab.research.google.com/notebooks/data_table.ipynb>data table notebook</a>'\n",
              "            + ' to learn more about interactive tables.';\n",
              "          element.innerHTML = '';\n",
              "          dataTable['output_type'] = 'display_data';\n",
              "          await google.colab.output.renderOutput(dataTable, element);\n",
              "          const docLink = document.createElement('div');\n",
              "          docLink.innerHTML = docLinkHtml;\n",
              "          element.appendChild(docLink);\n",
              "        }\n",
              "      </script>\n",
              "    </div>\n",
              "  </div>\n",
              "  "
            ]
          },
          "metadata": {},
          "execution_count": 33
        }
      ]
    },
    {
      "cell_type": "markdown",
      "source": [
        "Evaluating our model:"
      ],
      "metadata": {
        "id": "jZm88mRcjmh4"
      },
      "id": "jZm88mRcjmh4"
    },
    {
      "cell_type": "code",
      "source": [
        "from sklearn.metrics import accuracy_score\n",
        "accuracy_score(y_test,pred)"
      ],
      "metadata": {
        "colab": {
          "base_uri": "https://localhost:8080/"
        },
        "id": "q3POSHRYjVoW",
        "outputId": "da882609-32dd-41ae-e019-011af7394b38"
      },
      "id": "q3POSHRYjVoW",
      "execution_count": null,
      "outputs": [
        {
          "output_type": "execute_result",
          "data": {
            "text/plain": [
              "0.8970064148253742"
            ]
          },
          "metadata": {},
          "execution_count": 34
        }
      ]
    },
    {
      "cell_type": "markdown",
      "source": [
        "Inference: We get accuracy to be 90% approximately => our model works very well."
      ],
      "metadata": {
        "id": "2fQiQ6lIj8z_"
      },
      "id": "2fQiQ6lIj8z_"
    },
    {
      "cell_type": "markdown",
      "id": "1f2c05da",
      "metadata": {
        "id": "1f2c05da"
      },
      "source": [
        "Saving the trained model:"
      ]
    },
    {
      "cell_type": "code",
      "execution_count": null,
      "id": "0533be67",
      "metadata": {
        "id": "0533be67"
      },
      "outputs": [],
      "source": [
        "import pickle"
      ]
    },
    {
      "cell_type": "code",
      "execution_count": null,
      "id": "d64ccaaf",
      "metadata": {
        "id": "d64ccaaf"
      },
      "outputs": [],
      "source": [
        "filename=\"accident_severity_model.pkl\"\n",
        "pickle.dump(model,open(filename,'wb'))"
      ]
    },
    {
      "cell_type": "markdown",
      "id": "06524973",
      "metadata": {
        "id": "06524973"
      },
      "source": [
        "Loading the model:"
      ]
    },
    {
      "cell_type": "code",
      "execution_count": null,
      "id": "cda37cc2",
      "metadata": {
        "id": "cda37cc2"
      },
      "outputs": [],
      "source": [
        "loaded_model=pickle.load(open('accident_severity_model.pkl','rb'))"
      ]
    },
    {
      "cell_type": "code",
      "execution_count": null,
      "id": "5a88dd8a",
      "metadata": {
        "colab": {
          "base_uri": "https://localhost:8080/"
        },
        "id": "5a88dd8a",
        "outputId": "8d273b17-774e-4a07-e043-1f7031aeb434"
      },
      "outputs": [
        {
          "output_type": "execute_result",
          "data": {
            "text/plain": [
              "VotingClassifier(estimators=[('log', LogisticRegression()),\n",
              "                             ('dt', DecisionTreeClassifier(random_state=101)),\n",
              "                             ('svm', SVC(kernel='linear'))])"
            ]
          },
          "metadata": {},
          "execution_count": 42
        }
      ],
      "source": [
        "loaded_model"
      ]
    },
    {
      "cell_type": "code",
      "execution_count": null,
      "id": "f94ba5bb",
      "metadata": {
        "id": "f94ba5bb"
      },
      "outputs": [],
      "source": [
        ""
      ]
    }
  ],
  "metadata": {
    "kernelspec": {
      "display_name": "Python 3 (ipykernel)",
      "language": "python",
      "name": "python3"
    },
    "language_info": {
      "codemirror_mode": {
        "name": "ipython",
        "version": 3
      },
      "file_extension": ".py",
      "mimetype": "text/x-python",
      "name": "python",
      "nbconvert_exporter": "python",
      "pygments_lexer": "ipython3",
      "version": "3.10.0"
    },
    "colab": {
      "name": "Hackathon.ipynb",
      "provenance": [],
      "collapsed_sections": []
    }
  },
  "nbformat": 4,
  "nbformat_minor": 5
}